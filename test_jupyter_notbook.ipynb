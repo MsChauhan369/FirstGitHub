{
 "cells": [
  {
   "cell_type": "markdown",
   "id": "5440f895",
   "metadata": {},
   "source": [
    "# Python ka Chilla_With Baba_Ammar\n",
    "\n",
    "## How to use jupyter Note Book\n",
    "\n",
    "### Basics of Python"
   ]
  },
  {
   "cell_type": "markdown",
   "id": "009f646b",
   "metadata": {},
   "source": [
    "### **01.My first Programme**"
   ]
  },
  {
   "cell_type": "code",
   "execution_count": 3,
   "id": "d59ae603",
   "metadata": {},
   "outputs": [
    {
     "name": "stdout",
     "output_type": "stream",
     "text": [
      "5\n",
      "Hello World\n",
      "We are learning Python with Ammar Bhai\n"
     ]
    }
   ],
   "source": [
    "print(2+3)\n",
    "print(\"Hello World\")\n",
    "print(\"We are learning Python with Ammar Bhai\")"
   ]
  },
  {
   "cell_type": "markdown",
   "id": "3b819829",
   "metadata": {},
   "source": [
    "### **02.operators**"
   ]
  },
  {
   "cell_type": "code",
   "execution_count": 5,
   "id": "1aa7585e",
   "metadata": {},
   "outputs": [
    {
     "name": "stdout",
     "output_type": "stream",
     "text": [
      "4\n",
      "1\n",
      "2.0\n",
      "8\n",
      "1\n",
      "3\n",
      "27\n",
      "6.5\n"
     ]
    }
   ],
   "source": [
    "print(2+2)\n",
    "print(3-2)\n",
    "print(6/3)\n",
    "print(2*4)\n",
    "print(17%2)\n",
    "print(6//2) \n",
    "print(3**3)\n",
    "print(3**2/2*3/3+6-4)\n"
   ]
  },
  {
   "cell_type": "markdown",
   "id": "ec934f93",
   "metadata": {},
   "source": [
    "*PEMDAS\n",
    "parenthesis, Exxponents,Multiply, Divide, Additioin, Substraction\n",
    "left to Right sequence for MD AS:((2*3)3**2/2*3/3+6-4)*"
   ]
  },
  {
   "cell_type": "markdown",
   "id": "9b822f0b",
   "metadata": {},
   "source": [
    "### **Topic:03.strings**"
   ]
  },
  {
   "cell_type": "code",
   "execution_count": 10,
   "id": "ccc915d4",
   "metadata": {},
   "outputs": [
    {
     "name": "stdout",
     "output_type": "stream",
     "text": [
      "Hello World\n",
      "We are learning Python with Ammar Bhai\n",
      "test for singla quotes\n",
      "test for double quotes\n",
      "test for tripple quotes\n",
      "what's up\n",
      "  what's up   ?\n"
     ]
    }
   ],
   "source": [
    "print(\"Hello World\")\n",
    "print(\"We are learning Python with Ammar Bhai\")\n",
    "print('test for singla quotes')\n",
    "print(\"test for double quotes\")\n",
    "print('''test for tripple quotes''')\n",
    "print(\"what's up\")\n",
    "print(\"  what's up   ?\")"
   ]
  },
  {
   "cell_type": "markdown",
   "id": "c4146a43",
   "metadata": {},
   "source": [
    "### **04.comments**"
   ]
  },
  {
   "cell_type": "code",
   "execution_count": 7,
   "id": "96daf4d2",
   "metadata": {},
   "outputs": [
    {
     "name": "stdout",
     "output_type": "stream",
     "text": [
      "Hello World\n",
      "We are learning Python with Ammar Bhai\n",
      "9\n"
     ]
    }
   ],
   "source": [
    "print(\"Hello World\") \n",
    "print(\"We are learning Python with Ammar Bhai\")\n",
    "\n",
    "print(2+7)"
   ]
  },
  {
   "cell_type": "markdown",
   "id": "1b659fef",
   "metadata": {},
   "source": [
    "*press these to comment out  (ctrl + /)\n",
    "print a string. comments up to down\n",
    "print operationrs function with numbers*"
   ]
  },
  {
   "cell_type": "markdown",
   "id": "4fd8f9bf",
   "metadata": {},
   "source": [
    "### **05.variables**"
   ]
  },
  {
   "cell_type": "code",
   "execution_count": 10,
   "id": "346bafee",
   "metadata": {},
   "outputs": [
    {
     "name": "stdout",
     "output_type": "stream",
     "text": [
      "4\n",
      "15\n",
      "<class 'int'>\n",
      "<class 'str'>\n",
      "<class 'int'>\n",
      "Mangoes\n",
      "oranges\n",
      "8\n",
      "<class 'int'>\n",
      "8\n",
      "16\n",
      "<class 'int'>\n",
      "16\n",
      "Mangoes\n",
      "<class 'str'>\n",
      "Mangoes\n",
      "Mangoes\n"
     ]
    },
    {
     "ename": "NameError",
     "evalue": "name 'fruit_basket' is not defined",
     "output_type": "error",
     "traceback": [
      "\u001b[1;31m---------------------------------------------------------------------------\u001b[0m",
      "\u001b[1;31mNameError\u001b[0m                                 Traceback (most recent call last)",
      "Input \u001b[1;32mIn [10]\u001b[0m, in \u001b[0;36m<cell line: 47>\u001b[1;34m()\u001b[0m\n\u001b[0;32m     45\u001b[0m \u001b[38;5;28mprint\u001b[39m(fruit_basket)\n\u001b[0;32m     46\u001b[0m \u001b[38;5;28;01mdel\u001b[39;00m fruit_basket\n\u001b[1;32m---> 47\u001b[0m \u001b[38;5;28mprint\u001b[39m(\u001b[38;5;28mtype\u001b[39m(\u001b[43mfruit_basket\u001b[49m))\n\u001b[0;32m     48\u001b[0m \u001b[38;5;28mprint\u001b[39m(fruit_basket)\n",
      "\u001b[1;31mNameError\u001b[0m: name 'fruit_basket' is not defined"
     ]
    }
   ],
   "source": [
    "x= 4\n",
    "print(x)\n",
    "\n",
    "y=\"we are learning Python With Ammar Bhai\"\n",
    "z=15\n",
    "print(z)\n",
    "type(x)\n",
    "print(type(x))\n",
    "print(type(y))\n",
    "print(type(z))\n",
    "\n",
    "fruit_basket=\"Mangoes\"\n",
    "print(fruit_basket)\n",
    "\n",
    "fruit_basket=\"oranges\"\n",
    "print(fruit_basket)\n",
    "\n",
    "fruit_basket=8\n",
    "print(fruit_basket)\n",
    "print(type(fruit_basket))\n",
    "print(fruit_basket)\n",
    "\n",
    "fruit_basket=16 \n",
    "print(fruit_basket)\n",
    "print(type(fruit_basket))\n",
    "print(fruit_basket)\n",
    "\n",
    "fruit_basket=\"Mangoes\"\n",
    "print(fruit_basket)\n",
    "print(type(fruit_basket))\n",
    "print(fruit_basket)\n",
    "\n",
    "fruit_basket=\"Mangoes\"\n",
    "print(fruit_basket)\n",
    "del fruit_basket\n",
    "print(type(fruit_basket))\n",
    "print(fruit_basket)"
   ]
  },
  {
   "cell_type": "markdown",
   "id": "849a1763",
   "metadata": {},
   "source": [
    "*print_type_class\n",
    "Rules to assign a vaiable\n",
    " 1. the variable should contain letters, numberes\n",
    " 2. Do not start with number\n",
    " 3. Space are not allowed\n",
    " 4. Do not use keywords in function(false,class, finally, is , return, none, \n",
    "    a) continue, for, lambda, try,true,def,from nonlocal, while, and del, global ,\n",
    "    B) not, with, as,elif, if, or yeld, assert, else, import, pass, break, except, in raise,)\n",
    " 5. short and descriptive\n",
    " 6. case senstivity,(lowercase,uppercase letters, lower case letter should be used)m*\n",
    "\n"
   ]
  },
  {
   "cell_type": "markdown",
   "id": "12cc1e79",
   "metadata": {},
   "source": [
    "### **06.input_variable"
   ]
  },
  {
   "cell_type": "code",
   "execution_count": 11,
   "id": "9b60b98a",
   "metadata": {},
   "outputs": [
    {
     "name": "stdout",
     "output_type": "stream",
     "text": [
      "Mangoes\n",
      "what is your favourit fruit?Mangoes\n",
      "Mangoes\n",
      "what is your favourit fruit? apple\n",
      "apple\n",
      "what is your name? Muhammad Shahzad Chauhan369\n",
      "what is your name? M_S_Chauhan369\n",
      "Hello! M_S_Chauhan369\n",
      "what is your name? M_S_Chauhan369\n",
      "Hello! M_S_Chauhan369 You are still young\n",
      "Hello! M_S_Chauhan369 , You are still young\n"
     ]
    }
   ],
   "source": [
    "fruit_basket=\"Mangoes\"\n",
    "print(fruit_basket)\n",
    "\n",
    "fruit_basket=input(\"what is your favourit fruit?\")\n",
    "print(fruit_basket)\n",
    "\n",
    "fruit_basket=input(\"what is your favourit fruit? \")\n",
    "print(fruit_basket)\n",
    "\n",
    "name=input(\"what is your name? \")\n",
    "greetings=\"Hello!\"\n",
    "\n",
    "name=input(\"what is your name? \")\n",
    "print(\"Hello!\", name)\n",
    "\n",
    "name=input(\"what is your name? \")\n",
    "age=(\"How old are you? \")\n",
    "greetings=\"Hello!\"\n",
    "print(greetings, name, \"You are still young\")\n",
    "print(greetings, name, \", You are still young\")"
   ]
  },
  {
   "cell_type": "markdown",
   "id": "6582e3cf",
   "metadata": {},
   "source": [
    "*input function\n",
    "input function with space\n",
    "input frunction of 2nd stage\n",
    "another way of stage 2 input function\n",
    "3rd stage input function\n",
    "input_Ammar_You are still sweet Young boy*"
   ]
  },
  {
   "cell_type": "markdown",
   "id": "2adaa7da",
   "metadata": {},
   "source": [
    "### **07.conditional_logics**"
   ]
  },
  {
   "cell_type": "code",
   "execution_count": 13,
   "id": "0a2f9a0f",
   "metadata": {},
   "outputs": [
    {
     "name": "stdout",
     "output_type": "stream",
     "text": [
      "False\n",
      "How old is hammad? 5\n",
      "False\n",
      "How old is hammad? 5\n",
      "<class 'str'>\n",
      "False\n",
      "How old is hammad? 5\n",
      "<class 'int'>\n",
      "True\n"
     ]
    }
   ],
   "source": [
    "hammad_age=4\n",
    "age_at_school=5\n",
    "print(hammad_age==age_at_school)\n",
    "\n",
    "age_at_school=5\n",
    "hammad_age=input(\"How old is hammad? \")\n",
    "print(hammad_age==age_at_school)\n",
    "\n",
    "age_at_school=5\n",
    "hammad_age=input(\"How old is hammad? \")\n",
    "print(type(hammad_age))\n",
    "print(hammad_age==age_at_school)\n",
    "\n",
    "age_at_school=5\n",
    "hammad_age=input(\"How old is hammad? \")\n",
    "hammad_age=int(hammad_age)\n",
    "print(type(hammad_age))\n",
    "print(hammad_age==age_at_school)"
   ]
  },
  {
   "cell_type": "code",
   "execution_count": 11,
   "id": "d08e01f1",
   "metadata": {},
   "outputs": [
    {
     "name": "stdout",
     "output_type": "stream",
     "text": [
      "True\n",
      "False\n",
      "True\n",
      "False\n",
      "True\n",
      "True\n"
     ]
    }
   ],
   "source": [
    "print(4==4)\n",
    "print(4!=4)\n",
    "print(4>3)\n",
    "print(3>6)\n",
    "print(3<=5)\n",
    "print(5>=4)"
   ]
  },
  {
   "cell_type": "markdown",
   "id": "fae10606",
   "metadata": {},
   "source": [
    "*logical poerators are either \"true or false\" or \"yes or no\" or \"0 or 1\"\n",
    "equal to                    ==\n",
    "not equal to                !=\n",
    "less than                    <\n",
    "greater than                 >\n",
    "less than and equal to       <=\n",
    "greater than and equal to    >=\n",
    "\n",
    "is 4 equal to 4?\n",
    "\n",
    "\n",
    "application of logical operators\n",
    "\n",
    "input funcion and logical poerator\n",
    "input function\n",
    "\n",
    "logical operator\n",
    "\n",
    "input function\n",
    "logical operator\n",
    "input function\n",
    "int means integer\n",
    "logical operator\n",
    "convert input*"
   ]
  },
  {
   "cell_type": "markdown",
   "id": "a0b9e513",
   "metadata": {},
   "source": [
    "### **08.type_conversion**"
   ]
  },
  {
   "cell_type": "code",
   "execution_count": 8,
   "id": "59d30878",
   "metadata": {},
   "outputs": [
    {
     "name": "stdout",
     "output_type": "stream",
     "text": [
      "37.3 Type of x is: <class 'float'>\n",
      "What is your age? 18\n",
      "<class 'str'>\n",
      "What is your age? 30\n",
      "<class 'int'>\n",
      "What is your age? 30.5\n"
     ]
    },
    {
     "ename": "ValueError",
     "evalue": "invalid literal for int() with base 10: '30.5'",
     "output_type": "error",
     "traceback": [
      "\u001b[1;31m---------------------------------------------------------------------------\u001b[0m",
      "\u001b[1;31mValueError\u001b[0m                                Traceback (most recent call last)",
      "Input \u001b[1;32mIn [8]\u001b[0m, in \u001b[0;36m<cell line: 16>\u001b[1;34m()\u001b[0m\n\u001b[0;32m     13\u001b[0m \u001b[38;5;28mprint\u001b[39m(\u001b[38;5;28mtype\u001b[39m(age))\n\u001b[0;32m     15\u001b[0m age\u001b[38;5;241m=\u001b[39m\u001b[38;5;28minput\u001b[39m(\u001b[38;5;124m\"\u001b[39m\u001b[38;5;124mWhat is your age? \u001b[39m\u001b[38;5;124m\"\u001b[39m)\n\u001b[1;32m---> 16\u001b[0m \u001b[38;5;28mprint\u001b[39m(age, \u001b[38;5;28mtype\u001b[39m(\u001b[38;5;28;43mint\u001b[39;49m\u001b[43m(\u001b[49m\u001b[43mage\u001b[49m\u001b[43m)\u001b[49m))\n\u001b[0;32m     18\u001b[0m age\u001b[38;5;241m=\u001b[39m\u001b[38;5;28minput\u001b[39m(\u001b[38;5;124m\"\u001b[39m\u001b[38;5;124mWhat is your age? \u001b[39m\u001b[38;5;124m\"\u001b[39m)\n\u001b[0;32m     19\u001b[0m \u001b[38;5;28mprint\u001b[39m(age, \u001b[38;5;28mtype\u001b[39m(\u001b[38;5;28mfloat\u001b[39m(\u001b[38;5;28mint\u001b[39m(age))))\n",
      "\u001b[1;31mValueError\u001b[0m: invalid literal for int() with base 10: '30.5'"
     ]
    }
   ],
   "source": [
    "x=33\n",
    "y=4.3\n",
    "z=\"Hello\"\n",
    "\n",
    "x= x+y\n",
    "print(x, \"Type of x is:\", type(x))\n",
    "\n",
    "age=input(\"What is your age? \")\n",
    "print(type(age))\n",
    "\n",
    "age=input(\"What is your age? \")\n",
    "age=int(age)\n",
    "print(type(age))\n",
    "\n",
    "age=input(\"What is your age? \")\n",
    "print(age, type(int(age)))\n",
    "\n",
    "age=input(\"What is your age? \")\n",
    "print(age, type(float(int(age))))\n",
    "\n",
    "name=input(\"What is your name? \")\n",
    "print(name, type(int(name)))"
   ]
  },
  {
   "cell_type": "markdown",
   "id": "8d25c9dc",
   "metadata": {},
   "source": [
    "*imlicit type conversion\n",
    "explicit type conversion\n",
    "#age=int(age)\n",
    "#age=int(age)\n",
    "from ast import Name\n",
    "from re import X\n",
    "type_conversion*"
   ]
  },
  {
   "cell_type": "markdown",
   "id": "24f63ad2",
   "metadata": {},
   "source": [
    "### **09.if_elif_else**"
   ]
  },
  {
   "cell_type": "code",
   "execution_count": 16,
   "id": "11cf6d2c",
   "metadata": {},
   "outputs": [
    {
     "name": "stdout",
     "output_type": "stream",
     "text": [
      "Hammad can join the school\n",
      "Hammad should join higher secondary school\n",
      "you should take care of Hammad, he is still baby!\n"
     ]
    }
   ],
   "source": [
    "hammad_age= 4\n",
    "requird_age_at_school=5\n",
    "\n",
    "# question: can hammad go to school?\n",
    "\n",
    "if hammad_age==requird_age_at_school:\n",
    "    print(\"Hammad can join the school\")\n",
    "\n",
    "\n",
    "\n",
    "\n",
    "\n",
    "hammad_age= 5\n",
    "requird_age_at_school=5\n",
    "\n",
    "# question: can hammad go to school?\n",
    "\n",
    "if hammad_age==requird_age_at_school:\n",
    "    print(\"Hammad can join the school\")\n",
    "else:\n",
    "    print(\"Hammad can not go to school\") \n",
    "\n",
    "\n",
    "\n",
    "hammad_age= 10\n",
    "requird_age_at_school=5\n",
    "\n",
    "# question: can hammad go to school?\n",
    "\n",
    "if hammad_age==requird_age_at_school:\n",
    "    print(\"Congratulations! Hammad can join the school\")\n",
    "elif hammad_age> requird_age_at_school:\n",
    "    print(\"Hammad should join higher secondary school\")\n",
    "elif hammad_age==2:\n",
    "    print(\"you should take care of Hammad, he is still baby!\")\n",
    "else:\n",
    "    print(\"Hammad can not go to school\") \n",
    "\n",
    "\n",
    "hammad_age= 1\n",
    "requird_age_at_school=5\n",
    "\n",
    "# question: can hammad go to school?\n",
    "\n",
    "if hammad_age==requird_age_at_school:\n",
    "    print(\"Congratulations! Hammad can join the school\")\n",
    "elif hammad_age> requird_age_at_school:\n",
    "    print(\"Hammad should join higher secondary school\")\n",
    "elif hammad_age<=2:\n",
    "    print(\"you should take care of Hammad, he is still baby!\")\n",
    "else:\n",
    "    print(\"Hammad can not go to school\")"
   ]
  },
  {
   "cell_type": "markdown",
   "id": "3dcd5ab9",
   "metadata": {},
   "source": [
    "*if, elif, else statement clear*"
   ]
  },
  {
   "cell_type": "markdown",
   "id": "42f915da",
   "metadata": {},
   "source": [
    "### **10.functions**"
   ]
  },
  {
   "cell_type": "code",
   "execution_count": 17,
   "id": "9ca9a7b0",
   "metadata": {},
   "outputs": [
    {
     "name": "stdout",
     "output_type": "stream",
     "text": [
      "We are learning With Ammar Bhai\n",
      "We are learning With Ammar Bhai\n",
      "We are learning With Ammar Bhai\n",
      "We are learning With Ammar Bhai\n",
      "We are learning With Ammar Bhai\n",
      "We are learning With Ammar Bhai\n",
      "We are learning With Ammar Bhai in Codanics Youtube Channel\n",
      "We are learning With Ammar Bhai in Codanics Youtube Channel\n",
      "We are learning With Ammar Bhai in Codanics Youtube Channel\n"
     ]
    },
    {
     "ename": "TypeError",
     "evalue": "print_codanics() missing 1 required positional argument: 'text'",
     "output_type": "error",
     "traceback": [
      "\u001b[1;31m---------------------------------------------------------------------------\u001b[0m",
      "\u001b[1;31mTypeError\u001b[0m                                 Traceback (most recent call last)",
      "Input \u001b[1;32mIn [17]\u001b[0m, in \u001b[0;36m<cell line: 32>\u001b[1;34m()\u001b[0m\n\u001b[0;32m     29\u001b[0m     \u001b[38;5;28mprint\u001b[39m(text)\n\u001b[0;32m     30\u001b[0m     \u001b[38;5;28mprint\u001b[39m(text) \n\u001b[1;32m---> 32\u001b[0m \u001b[43mprint_codanics\u001b[49m\u001b[43m(\u001b[49m\u001b[43m)\u001b[49m\n\u001b[0;32m     34\u001b[0m \u001b[38;5;28;01mdef\u001b[39;00m \u001b[38;5;21mprint_codanics\u001b[39m(text):\n\u001b[0;32m     35\u001b[0m     \u001b[38;5;28mprint\u001b[39m(text)\n",
      "\u001b[1;31mTypeError\u001b[0m: print_codanics() missing 1 required positional argument: 'text'"
     ]
    }
   ],
   "source": [
    "# 1\n",
    "def print_codanics():\n",
    "    print(\"We are learning With Ammar Bhai\")\n",
    "    print(\"We are learning With Ammar Bhai\")\n",
    "    print(\"We are learning With Ammar Bhai\")\n",
    "\n",
    "print_codanics()\n",
    "\n",
    "# 2\n",
    "def print_codanics():\n",
    "    text = \"We are learning With Ammar Bhai\"\n",
    "    print(text)\n",
    "    print(text)\n",
    "    print(text) \n",
    "\n",
    "print_codanics()\n",
    "\n",
    "def print_codanics():\n",
    "    text = \"We are learning With Ammar Bhai in Codanics Youtube Channel\"\n",
    "    print(text)\n",
    "    print(text)\n",
    "    print(text) \n",
    "\n",
    "print_codanics()\n",
    "# 3\n",
    "\n",
    "def print_codanics(text):\n",
    "    print(text)\n",
    "    print(text)\n",
    "    print(text) \n",
    "\n",
    "print_codanics()\n",
    "\n",
    "def print_codanics(text):\n",
    "    print(text)\n",
    "    print(text)\n",
    "    print(text) \n",
    "\n",
    "print_codanics(\"We are learning Python With Ammar Bhai in Codanics Youtube Channel\")\n",
    "\n",
    "\n",
    "\n",
    "def school_calculator(age, test):\n",
    "    if age==5:\n",
    "        print(\"Hammad can join the school\")\n",
    "    elif age>5:\n",
    "        print(\"Hammad should go to higher school\")\n",
    "    else:\n",
    "        print(\"Hammad is still a baby\")\n",
    "\n",
    "school_calculator(2,\"Hammad\")\n",
    "\n",
    "\n",
    "def school_calculator(age):\n",
    "    if age==5:\n",
    "        print(\"Hammad can join the school\")\n",
    "    elif age>5:\n",
    "        print(\"Hammad should go to higher school\")\n",
    "    else:\n",
    "        print(\"Hammad is still a baby\")\n",
    "\n",
    "school_calculator(2)\n",
    "\n",
    "\n",
    "def future_age(age):\n",
    "    new_age=age+20\n",
    "    return new_age\n",
    "    print(new_age)\n",
    "\n",
    "future_predicted_age=future_age(18)\n",
    "print(future_predicted_age)"
   ]
  },
  {
   "cell_type": "markdown",
   "id": "05bc28cd",
   "metadata": {},
   "source": [
    "*print(\"We are learning With Ammar Bhai\")\n",
    "print(\"We are learning With Ammar Bhai\")\n",
    "print(\"We are learning With Ammar Bhai\")\n",
    "defining a function\n",
    "defining a function with if, elif and else statements\n",
    "defining a function of future:\n",
    "i understand functions very well*"
   ]
  },
  {
   "cell_type": "markdown",
   "id": "31bf9c19",
   "metadata": {},
   "source": [
    "### **11.Loops**"
   ]
  },
  {
   "cell_type": "code",
   "execution_count": 18,
   "id": "2057a6ac",
   "metadata": {},
   "outputs": [
    {
     "name": "stdout",
     "output_type": "stream",
     "text": [
      "0\n",
      "1\n",
      "2\n",
      "3\n",
      "4\n",
      "5\n",
      "6\n",
      "7\n",
      "8\n",
      "9\n",
      "4\n",
      "Mon\n",
      "Tue\n",
      "wed\n",
      "thu\n",
      "fri\n",
      "Sat\n",
      "Sun\n",
      "Mon\n",
      "Tue\n",
      "wed\n",
      "thu\n",
      "Mon\n",
      "Tue\n",
      "wed\n",
      "thu\n",
      "Sat\n",
      "Sun\n",
      "5\n",
      "Mon\n",
      "Tue\n",
      "wed\n",
      "thu\n",
      "fri\n",
      "Sat\n",
      "Sun\n",
      "Mon\n",
      "Tue\n",
      "wed\n",
      "thu\n",
      "Mon\n",
      "Tue\n",
      "wed\n",
      "thu\n",
      "Sat\n",
      "Sun\n",
      "6\n",
      "Mon\n",
      "Tue\n",
      "wed\n",
      "thu\n",
      "fri\n",
      "Sat\n",
      "Sun\n",
      "Mon\n",
      "Tue\n",
      "wed\n",
      "thu\n",
      "Mon\n",
      "Tue\n",
      "wed\n",
      "thu\n",
      "Sat\n",
      "Sun\n",
      "7\n",
      "Mon\n",
      "Tue\n",
      "wed\n",
      "thu\n",
      "fri\n",
      "Sat\n",
      "Sun\n",
      "Mon\n",
      "Tue\n",
      "wed\n",
      "thu\n",
      "Mon\n",
      "Tue\n",
      "wed\n",
      "thu\n",
      "Sat\n",
      "Sun\n",
      "8\n",
      "Mon\n",
      "Tue\n",
      "wed\n",
      "thu\n",
      "fri\n",
      "Sat\n",
      "Sun\n",
      "Mon\n",
      "Tue\n",
      "wed\n",
      "thu\n",
      "Mon\n",
      "Tue\n",
      "wed\n",
      "thu\n",
      "Sat\n",
      "Sun\n",
      "9\n",
      "Mon\n",
      "Tue\n",
      "wed\n",
      "thu\n",
      "fri\n",
      "Sat\n",
      "Sun\n",
      "Mon\n",
      "Tue\n",
      "wed\n",
      "thu\n",
      "Mon\n",
      "Tue\n",
      "wed\n",
      "thu\n",
      "Sat\n",
      "Sun\n",
      "10\n",
      "Mon\n",
      "Tue\n",
      "wed\n",
      "thu\n",
      "fri\n",
      "Sat\n",
      "Sun\n",
      "Mon\n",
      "Tue\n",
      "wed\n",
      "thu\n",
      "Mon\n",
      "Tue\n",
      "wed\n",
      "thu\n",
      "Sat\n",
      "Sun\n"
     ]
    }
   ],
   "source": [
    "# while and for loops\n",
    "# while loops\n",
    "x=0\n",
    "while (x<5):\n",
    "    print(x)\n",
    "    x=x+1\n",
    "\n",
    "\n",
    "# for loop\n",
    "for x in range(5,10):\n",
    "    print(x)\n",
    "\n",
    "for x in range(4,11):\n",
    "    print(x)\n",
    "\n",
    "    #ARRAY set\n",
    "\n",
    "    days=\"Mon\", \"Tue\",\"wed\",\"thu\",\"fri\",\"Sat\",\"Sun\"\n",
    "\n",
    "    for d in days:\n",
    "        print(d)\n",
    "\n",
    "    for d in days:\n",
    "        if (d==\"fri\"):break #loop stops\n",
    "        \n",
    "        print(d)\n",
    "\n",
    "    for d in days:\n",
    "    \n",
    "        if (d==\"fri\"): continue #skips d\n",
    "        print(d)"
   ]
  },
  {
   "cell_type": "markdown",
   "id": "f9327e98",
   "metadata": {},
   "source": [
    "*1.while and for loops\n",
    "2.while loops\n",
    "3.for loop\n",
    "4.ARRAY set\n",
    "5.loop stops\n",
    "6.skips d*"
   ]
  },
  {
   "cell_type": "markdown",
   "id": "16a69d2e",
   "metadata": {},
   "source": [
    "### **12.import_libraries**"
   ]
  },
  {
   "cell_type": "code",
   "execution_count": 2,
   "id": "8b62e1be",
   "metadata": {},
   "outputs": [
    {
     "name": "stdout",
     "output_type": "stream",
     "text": [
      "The value of pi is  3.141592653589793\n",
      "322.5\n",
      "927\n",
      "1378\n"
     ]
    }
   ],
   "source": [
    "import math\n",
    "print(\"The value of pi is \",math.pi)\n",
    "\n",
    "import statistics\n",
    "x=[150,250,350,540]\n",
    "print(statistics.mean(x))\n",
    "\n",
    "y=[454+23+45+56+98+9+90+87+65]\n",
    "print(statistics.mode(y))\n",
    "\n",
    "z=[388+23+123+321+434+89]\n",
    "print(statistics.median(z))"
   ]
  },
  {
   "cell_type": "markdown",
   "id": "066ed666",
   "metadata": {},
   "source": [
    "\n",
    "*1.if you want to print the value of pi\n",
    "2.lot of libraries, we can use to slove the prombles.\n",
    "3.numpy, pandas*"
   ]
  },
  {
   "cell_type": "markdown",
   "id": "92ed6f9c",
   "metadata": {},
   "source": [
    "### **13.trouble_shooting**"
   ]
  },
  {
   "cell_type": "code",
   "execution_count": 1,
   "id": "158ab58c",
   "metadata": {},
   "outputs": [
    {
     "name": "stdout",
     "output_type": "stream",
     "text": [
      "Wer are learning With Ammar Bhai\n"
     ]
    },
    {
     "ename": "ZeroDivisionError",
     "evalue": "division by zero",
     "output_type": "error",
     "traceback": [
      "\u001b[1;31m---------------------------------------------------------------------------\u001b[0m",
      "\u001b[1;31mZeroDivisionError\u001b[0m                         Traceback (most recent call last)",
      "Input \u001b[1;32mIn [1]\u001b[0m, in \u001b[0;36m<cell line: 2>\u001b[1;34m()\u001b[0m\n\u001b[0;32m      1\u001b[0m \u001b[38;5;28mprint\u001b[39m(\u001b[38;5;124m\"\u001b[39m\u001b[38;5;124mWer are learning With Ammar Bhai\u001b[39m\u001b[38;5;124m\"\u001b[39m) \n\u001b[1;32m----> 2\u001b[0m \u001b[38;5;28mprint\u001b[39m(\u001b[38;5;241;43m24\u001b[39;49m\u001b[38;5;241;43m/\u001b[39;49m\u001b[38;5;241;43m0\u001b[39;49m)\n\u001b[0;32m      4\u001b[0m name\u001b[38;5;241m=\u001b[39m\u001b[38;5;124m\"\u001b[39m\u001b[38;5;124mAmmar Bhai\u001b[39m\u001b[38;5;124m\"\u001b[39m\n\u001b[0;32m      5\u001b[0m \u001b[38;5;28mprint\u001b[39m(\u001b[38;5;124m\"\u001b[39m\u001b[38;5;124mHello name\u001b[39m\u001b[38;5;124m\"\u001b[39m)\n",
      "\u001b[1;31mZeroDivisionError\u001b[0m: division by zero"
     ]
    }
   ],
   "source": [
    "print(\"Wer are learning With Ammar Bhai\") \n",
    "print(24/0)\n",
    "\n",
    "name=\"Ammar Bhai\"\n",
    "print(\"Hello name\")\n",
    "print(\"Hello \", name)\n",
    "print(\"Hello\"+ name)"
   ]
  },
  {
   "cell_type": "markdown",
   "id": "6970c48e",
   "metadata": {},
   "source": [
    "\n",
    "*1.print(we are learning With Ammar Bhai) # this error is called syntaxError\n",
    "2.it is orginal Python Coding language\n",
    "3.We can say that is a Runtime Error\n",
    "4.It is a difficult Error to remove by Coder,\n",
    "5.due to lot of data in Python. It is Error made by Coder. #symantic Error\n",
    "6.In this stage we use \"Hello (space)\",(comma) and last we write name\n",
    "7.the Coder input +sign it will show without space and print the code easy\n",
    "8.trouble shooting is easy now. I love You Ammar Bhai*"
   ]
  },
  {
   "cell_type": "markdown",
   "id": "65bf0420",
   "metadata": {},
   "source": [
    "# By my\n",
    "## by the owner\n",
    "### Cell Number: 00000000000"
   ]
  }
 ],
 "metadata": {
  "kernelspec": {
   "display_name": "Python 3 (ipykernel)",
   "language": "python",
   "name": "python3"
  },
  "language_info": {
   "codemirror_mode": {
    "name": "ipython",
    "version": 3
   },
   "file_extension": ".py",
   "mimetype": "text/x-python",
   "name": "python",
   "nbconvert_exporter": "python",
   "pygments_lexer": "ipython3",
   "version": "3.9.12"
  }
 },
 "nbformat": 4,
 "nbformat_minor": 5
}
